{
 "cells": [
  {
   "cell_type": "markdown",
   "metadata": {},
   "source": [
    "# White Giant Cooling Model - Vertical Channels"
   ]
  },
  {
   "cell_type": "code",
   "execution_count": 1,
   "metadata": {},
   "outputs": [
    {
     "name": "stdout",
     "output_type": "stream",
     "text": [
      "Warning: Missing or invalid temperature-strength relationship. Stress results invalid for at least one material.\n"
     ]
    }
   ],
   "source": [
    "#Import required modules\n",
    "import bamboo as bam\n",
    "import bamboo.cooling as cool\n",
    "import bamboo.materials\n",
    "\n",
    "import numpy as np\n",
    "import matplotlib.pyplot as plt\n",
    "import pypropep as ppp\n",
    "import bamboo.plot\n",
    "import thermo"
   ]
  },
  {
   "cell_type": "markdown",
   "metadata": {},
   "source": [
    "### *Engine setup*"
   ]
  },
  {
   "cell_type": "code",
   "execution_count": 2,
   "metadata": {},
   "outputs": [
    {
     "name": "stdout",
     "output_type": "stream",
     "text": [
      "Loaded 1921 thermo species\n",
      "Loaded 1031 propellants\n",
      "bamboo.main.rao_theta_n(): Area ratio is outside the range of the Rao inflection angle data, returning 15 deg instead.\n",
      "bamboo.main.rao_theta_e(): Area ratio is outside the range of the Rao exit angle data, returning 14.999 deg instead.\n",
      "\n",
      "Nozzle throat area = 0.006712812133545899 m^2, nozzle exit area = 0.021131183305612325 m^2\n",
      "\n",
      "Chamber Temperature: 2895.328510803194 K\n",
      "Gamma = 1.1430282235267117\n",
      "cp = 3827.3842050453954 J/kg/K\n",
      "\n",
      "Sea level thrust = 13.752350411700128 kN      (using perfect gas relations)\n",
      "Sea level Isp = 257.36377399776666 s         (using perfect gas relations)\n"
     ]
    }
   ],
   "source": [
    "'''Chamber conditions'''\n",
    "pc = 15e5                   #Chamber pressure (Pa)\n",
    "mdot = 5.4489               #Mass flow rate (kg/s)\n",
    "p_amb = 1.01325e5           #Ambient pressure (Pa). 1.01325e5 is sea level atmospheric.\n",
    "OF_ratio = 3.5              #Oxidiser/fuel mass ratio\n",
    "water_mass_fraction = 0.40  #Fraction of the fuel that is water, by mass\n",
    "\n",
    "'''Get combustion properties from pypropep'''\n",
    "ppp.init()\n",
    "e = ppp.Equilibrium()\n",
    "ipa = ppp.PROPELLANTS['ISOPROPYL ALCOHOL']\n",
    "water = ppp.PROPELLANTS['WATER']\n",
    "n2o = ppp.PROPELLANTS['NITROUS OXIDE']\n",
    "\n",
    "#Add propellants by mass fractions (note the mass fractions can add up to more than 1)\n",
    "e.add_propellants_by_mass([(ipa, 1-water_mass_fraction), (water, water_mass_fraction), (n2o, OF_ratio)])\n",
    "\n",
    "#Adiabatic combustion using chamber pressure                      \n",
    "e.set_state(P = pc/1e5, type='HP')                      \n",
    "\n",
    "gamma = e.properties.Isex   #pyrpopep uses 'Isex' for the ratio of specific heats\n",
    "cp = 1000*e.properties.Cp   #Cp is given in kJ/kg/K, we want J/kg/K\n",
    "Tc = e.properties.T\n",
    "\n",
    "'''Set up the engine object'''\n",
    "perfect_gas = bam.PerfectGas(gamma = gamma, cp = cp)    #Gas for frozen flow\n",
    "chamber_conditions = bam.ChamberConditions(pc, Tc, mdot)\n",
    "nozzle = bam.Nozzle.from_engine_components(perfect_gas, chamber_conditions, p_amb, type = \"rao\")\n",
    "engine = bam.Engine(perfect_gas, chamber_conditions, nozzle)\n",
    "\n",
    "print(f\"\\nNozzle throat area = {nozzle.At} m^2, nozzle exit area = {nozzle.Ae} m^2\")\n",
    "\n",
    "'''Check the thrust and specific impulse'''\n",
    "print(\"\")\n",
    "print(f\"Chamber Temperature: {Tc} K\")\n",
    "print(f\"Gamma = {gamma}\")\n",
    "print(f\"cp = {cp} J/kg/K\")\n",
    "print(\"\")\n",
    "print(f\"Sea level thrust = {engine.thrust(1e5)/1000} kN      (using perfect gas relations)\")\n",
    "print(f\"Sea level Isp = {engine.isp(1e5)} s         (using perfect gas relations)\")\n",
    "\n"
   ]
  },
  {
   "cell_type": "markdown",
   "metadata": {},
   "source": [
    "### *Cooling simulation*"
   ]
  },
  {
   "cell_type": "code",
   "execution_count": 3,
   "metadata": {},
   "outputs": [],
   "source": [
    "'''Transport properties'''\n",
    "#We'll set up a very crude exhaust gas model using thermo.\n",
    "thermo_gas = thermo.mixture.Mixture(['N2', 'H2O', 'CO2'], zs = [1, 0.2, 0.2])  \n",
    "\n",
    "#Setup the exhaust gas transport properties\n",
    "def Pr_gas(T, p):\n",
    "    thermo_gas.calculate(T, p)\n",
    "    return thermo_gas.Prg\n",
    "\n",
    "def mu_gas(T, p):\n",
    "    thermo_gas.calculate(T, p)\n",
    "    return thermo_gas.mug\n",
    "\n",
    "def k_gas(T, p):\n",
    "    thermo_gas.calculate(T, p)\n",
    "    return thermo_gas.kg\n",
    "\n",
    "gas_transport = bam.cooling.TransportProperties(type = \"functions\",\n",
    "                                                Pr = Pr_gas,\n",
    "                                                mu = mu_gas,\n",
    "                                                k = k_gas)\n",
    "\n",
    "#Set up the coolant transport properties\n",
    "thermo_coolant = thermo.chemical.Chemical('isopropanol')\n",
    "\n",
    "def Pr_coolant(T, p):\n",
    "    thermo_coolant.calculate(T, p)\n",
    "    return thermo_coolant.Prl\n",
    "\n",
    "def mu_coolant(T, p):\n",
    "    thermo_coolant.calculate(T, p)\n",
    "    return thermo_coolant.mul\n",
    "\n",
    "def k_coolant(T, p):\n",
    "    thermo_coolant.calculate(T, p)\n",
    "    return thermo_coolant.kl\n",
    "\n",
    "def cp_coolant(T, p):\n",
    "    #I'm fixing temperature at 320K, because I don't entirely trust thermo's value's for cp\n",
    "    thermo_coolant.calculate(T = 320, P = p)   \n",
    "    return thermo_coolant.Cpl\n",
    "\n",
    "def rho_coolant(T, p):\n",
    "    thermo_coolant.calculate(T, p)\n",
    "    return thermo_coolant.rhol\n",
    "\n",
    "coolant_transport = bam.cooling.TransportProperties(type = \"functions\",\n",
    "                                                    Pr = Pr_coolant,\n",
    "                                                    mu = mu_coolant,\n",
    "                                                    k = k_coolant,\n",
    "                                                    cp = cp_coolant,\n",
    "                                                    rho = rho_coolant)\n",
    "\n",
    "#Add the gas transport properties to the engine\n",
    "engine.add_exhaust_transport(gas_transport)\n",
    "\n",
    "#Coolant transport properties will get used later when creating adding the CoolingJacket to the engine"
   ]
  },
  {
   "cell_type": "code",
   "execution_count": 4,
   "metadata": {},
   "outputs": [
    {
     "name": "stdout",
     "output_type": "stream",
     "text": [
      "Wall material properties:\n",
      "bamboo.cooling.Material Object\n",
      "        Young's modulus = 140.0 GPa \n",
      "        0.2% Yield Stress = 600.0 MPa \n",
      "        Poisson's ratio = 0.355\n",
      "        alpha = 1.75e-05 strain/K\n",
      "        Thermal conductivity = 211 W/m/K\n",
      "        (may also have a specific heat capacity (self.c) and density (self.rho))\n",
      "\n",
      " Graphite insert properties:\n",
      "bamboo.cooling.Material Object\n",
      "        Young's modulus = nan GPa \n",
      "        0.2% Yield Stress = nan MPa \n",
      "        Poisson's ratio = nan\n",
      "        alpha = nan strain/K\n",
      "        Thermal conductivity = 63.81001 W/m/K\n",
      "        (may also have a specific heat capacity (self.c) and density (self.rho))\n",
      "\n"
     ]
    },
    {
     "data": {
      "image/png": "[encoded data removed]",
      "text/plain": [
       "<Figure size 432x288 with 1 Axes>"
      ]
     },
     "metadata": {
      "needs_background": "light"
     },
     "output_type": "display_data"
    }
   ],
   "source": [
    "'''Chamber and wall geometry'''\n",
    "Ac = np.pi*0.1**2                      #Chamber cross-sectional area (m^2)\n",
    "inner_wall_thickness = 1e-3                  #Thickness of the metal engine liner (m)\n",
    "L_star = 1.2                           #L_star = Volume_c/Area_t\n",
    "chamber_length = L_star*nozzle.At/Ac   #Length of the combustion chamber\n",
    "engine.add_geometry(chamber_length, Ac, inner_wall_thickness)\n",
    "\n",
    "'''Coolant jacket'''\n",
    "mdot_coolant = mdot/(OF_ratio + 1)               #Coolant mass flow rate\n",
    "inlet_T = 298.15                                 #Coolant inlet temperature\n",
    "inlet_p0 = 40e5                                  #Tank / inlet coolant stagnation pressure (Pa)\n",
    "wall_material = bam.materials.CopperC700         #Copper inner wall\n",
    "\n",
    "#Add the cooling jacket\n",
    "engine.add_cooling_jacket(wall_material, \n",
    "                          inlet_T, \n",
    "                          inlet_p0, \n",
    "                          coolant_transport, \n",
    "                          mdot_coolant, \n",
    "                          configuration = \"vertical\", \n",
    "                          channel_height = 2e-3,\n",
    "                          blockage_ratio = 0.4,\n",
    "                          number_of_ribs = 20)\n",
    "\n",
    "\n",
    "'''Graphite insert'''\n",
    "ablative_material = bam.materials.Graphite\n",
    "engine.add_ablative(ablative_material)\n",
    "\n",
    "#Print the wall and ablative material properties\n",
    "print(\"Wall material properties:\")\n",
    "print(wall_material)\n",
    "\n",
    "print(\"\\n Graphite insert properties:\")\n",
    "print(ablative_material)\n",
    "print(\"\")\n",
    "\n",
    "#Plot the geometry\n",
    "engine.plot_geometry()\n",
    "plt.show()"
   ]
  },
  {
   "cell_type": "code",
   "execution_count": 5,
   "metadata": {},
   "outputs": [
    {
     "name": "stderr",
     "output_type": "stream",
     "text": [
      "D:\\anaconda3\\lib\\site-packages\\thermo\\viscosity.py:826: RuntimeWarning: invalid value encountered in double_scalars\n",
      "  D = 0.3257/((1.0039-Tr**2.573)**0.2906) - 0.2086\n"
     ]
    },
    {
     "ename": "TypeError",
     "evalue": "unsupported operand type(s) for /: 'float' and 'NoneType'",
     "output_type": "error",
     "traceback": [
      "\u001b[1;31m---------------------------------------------------------------------------\u001b[0m",
      "\u001b[1;31mTypeError\u001b[0m                                 Traceback (most recent call last)",
      "\u001b[1;32m<ipython-input-5-5ec3ded1f41d>\u001b[0m in \u001b[0;36m<module>\u001b[1;34m\u001b[0m\n\u001b[0;32m      1\u001b[0m \u001b[1;31m#Run simulation\u001b[0m\u001b[1;33m\u001b[0m\u001b[1;33m\u001b[0m\u001b[1;33m\u001b[0m\u001b[0m\n\u001b[1;32m----> 2\u001b[1;33m \u001b[0mheating_data\u001b[0m \u001b[1;33m=\u001b[0m \u001b[0mengine\u001b[0m\u001b[1;33m.\u001b[0m\u001b[0msteady_heating_analysis\u001b[0m\u001b[1;33m(\u001b[0m\u001b[0mto_json\u001b[0m \u001b[1;33m=\u001b[0m \u001b[1;32mFalse\u001b[0m\u001b[1;33m,\u001b[0m \u001b[0mh_gas_model\u001b[0m \u001b[1;33m=\u001b[0m \u001b[1;34m'bartz-sigma'\u001b[0m\u001b[1;33m,\u001b[0m \u001b[0mh_coolant_model\u001b[0m \u001b[1;33m=\u001b[0m \u001b[1;34m'sieder-tate'\u001b[0m\u001b[1;33m)\u001b[0m\u001b[1;33m\u001b[0m\u001b[1;33m\u001b[0m\u001b[0m\n\u001b[0m",
      "\u001b[1;32mD:\\anaconda3\\lib\\site-packages\\bamboo\\main.py\u001b[0m in \u001b[0;36msteady_heating_analysis\u001b[1;34m(self, number_of_points, h_gas_model, h_coolant_model, to_json)\u001b[0m\n\u001b[0;32m   1573\u001b[0m \u001b[1;33m\u001b[0m\u001b[0m\n\u001b[0;32m   1574\u001b[0m                     \u001b[1;32melse\u001b[0m\u001b[1;33m:\u001b[0m\u001b[1;33m\u001b[0m\u001b[1;33m\u001b[0m\u001b[0m\n\u001b[1;32m-> 1575\u001b[1;33m                         h_coolant[i] = cool.h_coolant_sieder_tate(rho_coolant[i], \n\u001b[0m\u001b[0;32m   1576\u001b[0m                                                         \u001b[0mv_coolant\u001b[0m\u001b[1;33m[\u001b[0m\u001b[0mi\u001b[0m\u001b[1;33m]\u001b[0m\u001b[1;33m,\u001b[0m\u001b[1;33m\u001b[0m\u001b[1;33m\u001b[0m\u001b[0m\n\u001b[0;32m   1577\u001b[0m                                                         \u001b[0mself\u001b[0m\u001b[1;33m.\u001b[0m\u001b[0mcooling_jacket\u001b[0m\u001b[1;33m.\u001b[0m\u001b[0mD\u001b[0m\u001b[1;33m(\u001b[0m\u001b[0mx\u001b[0m\u001b[1;33m=\u001b[0m\u001b[0mx\u001b[0m\u001b[1;33m,\u001b[0m \u001b[0my\u001b[0m\u001b[1;33m=\u001b[0m\u001b[0mself\u001b[0m\u001b[1;33m.\u001b[0m\u001b[0my\u001b[0m\u001b[1;33m(\u001b[0m\u001b[0mx\u001b[0m\u001b[1;33m=\u001b[0m\u001b[0mx\u001b[0m\u001b[1;33m,\u001b[0m \u001b[0mup_to\u001b[0m \u001b[1;33m=\u001b[0m \u001b[1;34m\"wall in\"\u001b[0m\u001b[1;33m)\u001b[0m\u001b[1;33m)\u001b[0m\u001b[1;33m,\u001b[0m\u001b[1;33m\u001b[0m\u001b[1;33m\u001b[0m\u001b[0m\n",
      "\u001b[1;32mD:\\anaconda3\\lib\\site-packages\\bamboo\\cooling.py\u001b[0m in \u001b[0;36mh_coolant_sieder_tate\u001b[1;34m(rho, V, D, mu_bulk, mu_wall, Pr, k)\u001b[0m\n\u001b[0;32m    144\u001b[0m     \"\"\"\n\u001b[0;32m    145\u001b[0m     \u001b[0mRe\u001b[0m \u001b[1;33m=\u001b[0m \u001b[0mrho\u001b[0m\u001b[1;33m*\u001b[0m\u001b[0mV\u001b[0m\u001b[1;33m*\u001b[0m\u001b[0mD\u001b[0m\u001b[1;33m/\u001b[0m\u001b[0mmu_bulk\u001b[0m\u001b[1;33m\u001b[0m\u001b[1;33m\u001b[0m\u001b[0m\n\u001b[1;32m--> 146\u001b[1;33m     \u001b[0mNu\u001b[0m \u001b[1;33m=\u001b[0m \u001b[1;36m0.027\u001b[0m\u001b[1;33m*\u001b[0m\u001b[0mRe\u001b[0m\u001b[1;33m**\u001b[0m\u001b[1;33m(\u001b[0m\u001b[1;36m4\u001b[0m\u001b[1;33m/\u001b[0m\u001b[1;36m5\u001b[0m\u001b[1;33m)\u001b[0m\u001b[1;33m*\u001b[0m\u001b[0mPr\u001b[0m\u001b[1;33m**\u001b[0m\u001b[1;33m(\u001b[0m\u001b[1;36m1\u001b[0m\u001b[1;33m/\u001b[0m\u001b[1;36m3\u001b[0m\u001b[1;33m)\u001b[0m\u001b[1;33m*\u001b[0m\u001b[1;33m(\u001b[0m\u001b[0mmu_bulk\u001b[0m\u001b[1;33m/\u001b[0m\u001b[0mmu_wall\u001b[0m\u001b[1;33m)\u001b[0m\u001b[1;33m**\u001b[0m\u001b[1;36m0.14\u001b[0m\u001b[1;33m\u001b[0m\u001b[1;33m\u001b[0m\u001b[0m\n\u001b[0m\u001b[0;32m    147\u001b[0m \u001b[1;33m\u001b[0m\u001b[0m\n\u001b[0;32m    148\u001b[0m     \u001b[1;32mreturn\u001b[0m \u001b[0mNu\u001b[0m\u001b[1;33m*\u001b[0m\u001b[0mk\u001b[0m\u001b[1;33m/\u001b[0m\u001b[0mD\u001b[0m\u001b[1;33m\u001b[0m\u001b[1;33m\u001b[0m\u001b[0m\n",
      "\u001b[1;31mTypeError\u001b[0m: unsupported operand type(s) for /: 'float' and 'NoneType'"
     ]
    }
   ],
   "source": [
    "#Run simulation\n",
    "heating_data = engine.steady_heating_analysis(to_json = False, h_gas_model = 'bartz-sigma', h_coolant_model = 'sieder-tate')"
   ]
  },
  {
   "cell_type": "code",
   "execution_count": null,
   "metadata": {
    "scrolled": false
   },
   "outputs": [],
   "source": [
    "#Show plots\n",
    "bam.plot.plot_temperatures(heating_data, show_gas = True, show_ablative = True)\n",
    "bam.plot.plot_temperatures(heating_data, show_gas = False, show_ablative = False)\n",
    "\n",
    "plt.show()"
   ]
  },
  {
   "cell_type": "markdown",
   "metadata": {},
   "source": [
    "Plot everything else:"
   ]
  },
  {
   "cell_type": "code",
   "execution_count": null,
   "metadata": {},
   "outputs": [],
   "source": [
    "bam.plot.plot_jacket_pressure(heating_data)\n",
    "plt.title(\"Coolant Static Pressure\")\n",
    "\n",
    "bam.plot.plot_h(heating_data)\n",
    "plt.title(\"Convective Heat Transfer Coefficients\")\n",
    "\n",
    "bam.plot.plot_qdot(heating_data)\n",
    "plt.title(\"Heat Transfer Rates (per axial unit length)\")\n",
    "\n",
    "bam.plot.plot_resistances(heating_data)\n",
    "plt.title(\"Thermal Resistances (per axial unit length)\")\n",
    "\n",
    "bam.plot.plot_exhaust_properties(heating_data)\n",
    "plt.title(\"\")\n",
    "\n",
    "bam.plot.plot_coolant_properties(heating_data)"
   ]
  },
  {
   "cell_type": "code",
   "execution_count": null,
   "metadata": {},
   "outputs": [],
   "source": []
  },
  {
   "cell_type": "code",
   "execution_count": null,
   "metadata": {},
   "outputs": [],
   "source": []
  }
 ],
 "metadata": {
  "kernelspec": {
   "display_name": "Python 3",
   "language": "python",
   "name": "python3"
  },
  "language_info": {
   "codemirror_mode": {
    "name": "ipython",
    "version": 3
   },
   "file_extension": ".py",
   "mimetype": "text/x-python",
   "name": "python",
   "nbconvert_exporter": "python",
   "pygments_lexer": "ipython3",
   "version": "3.8.5"
  }
 },
 "nbformat": 4,
 "nbformat_minor": 4
}
