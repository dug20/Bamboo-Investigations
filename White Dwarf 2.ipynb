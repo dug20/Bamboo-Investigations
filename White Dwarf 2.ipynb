{
 "cells": [
  {
   "cell_type": "markdown",
   "metadata": {},
   "source": [
    "# White Dwarf Operating Conditions"
   ]
  },
  {
   "cell_type": "code",
   "execution_count": 3,
   "metadata": {},
   "outputs": [
    {
     "name": "stdout",
     "output_type": "stream",
     "text": [
      "Warning: Missing or invalid temperature-strength relationship. Stress results invalid for at least one material.\n"
     ]
    }
   ],
   "source": [
    "#Import required modules\n",
    "import bamboo as bam\n",
    "import bamboo.cooling as cool\n",
    "import bamboo.materials\n",
    "\n",
    "\n",
    "import numpy as np\n",
    "import matplotlib.pyplot as plt\n",
    "import pypropep as ppp\n",
    "import bamboo.plot\n",
    "from CoolProp.CoolProp import PropsSI"
   ]
  },
  {
   "cell_type": "markdown",
   "metadata": {},
   "source": [
    "### *Engine setup*"
   ]
  },
  {
   "cell_type": "code",
   "execution_count": 25,
   "metadata": {},
   "outputs": [
    {
     "name": "stdout",
     "output_type": "stream",
     "text": [
      "Loaded 1921 thermo species\n",
      "Loaded 1031 propellants\n",
      "NOTE: Area ratio is outside of data range for Rao bell nozzle graphs (minimum 3.7, maximum 47). Using a 15 deg cone nozzle instead.\n"
     ]
    }
   ],
   "source": [
    "'''Chamber conditions'''\n",
    "pc = 10e5                   #Chamber pressure (Pa)\n",
    "thrust = 1.5e3              #Desired thrust (N)\n",
    "p_amb = 1.01325e5           #Ambient pressure (Pa). 1.01325e5 is sea level atmospheric.\n",
    "OF_ratio = 3.5              #Oxidiser/fuel mass ratio\n",
    "water_mass_fraction = 0.40  #Fraction of the fuel that is water, by mass\n",
    "\n",
    "'''Get combustion properties from pypropep - we'll investigate both equilibrium and frozen flow'''\n",
    "ppp.init()\n",
    "p_froz = ppp.FrozenPerformance()\n",
    "p_shift = ppp.ShiftingPerformance()\n",
    "\n",
    "ipa = ppp.PROPELLANTS['ISOPROPYL ALCOHOL']\n",
    "water = ppp.PROPELLANTS['WATER']\n",
    "n2o = ppp.PROPELLANTS['NITROUS OXIDE']\n",
    "\n",
    "#Add propellants by mass fractions (note the mass fractions can add up to more than 1)\n",
    "p_froz.add_propellants_by_mass([(ipa, 1-water_mass_fraction), (water, water_mass_fraction), (n2o, OF_ratio)])\n",
    "p_shift.add_propellants_by_mass([(ipa, 1-water_mass_fraction), (water, water_mass_fraction), (n2o, OF_ratio)])\n",
    "                  \n",
    "p_froz.set_state(P = pc/1e5, Pe = p_amb/1e5)                      \n",
    "p_shift.set_state(P = pc/1e5, Pe = p_amb/1e5)                      \n",
    "\n",
    "gamma = p_froz.properties[0].Isex   #Index 0 means chamber conditions. pyrpopep uses 'Isex' for the ratio of specific heats\n",
    "cp = 1000*p_froz.properties[0].Cp   #Cp is given in kJ/kg/K, we want J/kg/K\n",
    "Tc = p_froz.properties[0].T\n",
    "\n",
    "isp_froz = p_froz.performance.Isp\n",
    "isp_shift = p_shift.performance.Isp\n",
    "\n",
    "mdot = thrust/isp_froz        #We'll use frozen flow isp to choose the mass flow rate\n",
    "\n",
    "'''Set up the engine object'''\n",
    "perfect_gas = bam.PerfectGas(gamma = gamma, cp = cp)    #Gas for frozen flow\n",
    "chamber_conditions = bam.ChamberConditions(pc, Tc, mdot)\n",
    "nozzle = bam.Nozzle.from_engine_components(perfect_gas, chamber_conditions, p_amb, type = \"rao\")\n",
    "engine = bam.Engine(perfect_gas, chamber_conditions, nozzle)\n",
    "\n",
    "'''Chamber and wall geometry'''\n",
    "Ac = np.pi*0.06**2                      #Chamber cross-sectional area (m^2)\n",
    "L_star = 1.2                           #L_star = Volume_c/Area_t\n",
    "chamber_length = L_star*nozzle.At/Ac   #Length of the combustion chamber\n",
    "engine.add_geometry(chamber_length = chamber_length,\n",
    "                    chamber_area = Ac,\n",
    "                    inner_wall_thickness = 2e-3,\n",
    "                    outer_wall_thickness = 2e-3)\n"
   ]
  },
  {
   "cell_type": "markdown",
   "metadata": {},
   "source": [
    "### Engine performance"
   ]
  },
  {
   "cell_type": "code",
   "execution_count": 58,
   "metadata": {},
   "outputs": [
    {
     "name": "stdout",
     "output_type": "stream",
     "text": [
      "\n",
      "Mass flow rate = 0.803 kg/s\n",
      "\n",
      "Sea level thrust     = 1.914 kN      (perfect gas relations)\n",
      "Sea level thrust     = 1.500 kN      (frozen flow - PyProPEP)\n",
      "Sea level thrust     = 1.546 kN      (equilibrium flow - PyProPEP)\n",
      "\n",
      "Sea level Isp        = 242.923 s     (perfect gas relations)\n",
      "Sea level thrust     = 190.398 s     (frozen flow - PyProPEP)\n",
      "Sea level Isp        = 196.176 s     (equilibrium flow - PyProPEP)\n",
      "\n",
      "Chamber Temperature  = 2868.057 K\n",
      "Gamma                = 1.140\n",
      "cp                   = 4014.403 J/kg/K\n",
      "\n",
      "\n",
      "Combustion product composition:\n",
      "[('N2', 0.44747502468273587), ('H2O', 0.31267294528360934), ('CO2', 0.10401242950642305), ('CO', 0.06577575833473565), ('H2', 0.02777714200293597), ('OH', 0.018156065813505123), ('O2', 0.009885745316190067), ('NO', 0.006600861607412714)]\n"
     ]
    }
   ],
   "source": [
    "print(f\"\"\"\n",
    "Mass flow rate = {mdot:.3f} kg/s\n",
    "\n",
    "Sea level thrust     = {engine.thrust(1e5)/1000:.3f} kN      (perfect gas relations)\n",
    "Sea level thrust     = {isp_froz * mdot/1000:.3f} kN      (frozen flow - PyProPEP)\n",
    "Sea level thrust     = {isp_shift * mdot/1000:.3f} kN      (equilibrium flow - PyProPEP)\n",
    "\n",
    "Sea level Isp        = {engine.isp(1e5):.3f} s     (perfect gas relations)\n",
    "Sea level thrust     = {isp_froz/9.80665:.3f} s     (frozen flow - PyProPEP)\n",
    "Sea level Isp        = {isp_shift/9.80665:.3f} s     (equilibrium flow - PyProPEP)\n",
    "\n",
    "Chamber Temperature  = {Tc:.3f} K\n",
    "Gamma                = {gamma:.3f}\n",
    "cp                   = {cp:.3f} J/kg/K\n",
    "\"\"\")\n",
    "\n",
    "print(\"\\nCombustion product composition:\")\n",
    "print(p.composition['chamber'][0:8])\n"
   ]
  },
  {
   "cell_type": "markdown",
   "metadata": {},
   "source": [
    "### Geometry"
   ]
  },
  {
   "cell_type": "code",
   "execution_count": 65,
   "metadata": {},
   "outputs": [
    {
     "data": {
      "image/png": "[encoded data removed]",
      "text/plain": [
       "<Figure size 432x288 with 1 Axes>"
      ]
     },
     "metadata": {
      "needs_background": "light"
     },
     "output_type": "display_data"
    },
    {
     "name": "stdout",
     "output_type": "stream",
     "text": [
      "\n",
      "Chamber length       = 0.15926 m\n",
      "Nozzle length (total)= 0.09693 m\n",
      "\n",
      "Throat area         = 0.00150 m^2  (Bamboo - perfect gas)\n",
      "Throat area         = 0.00117 m^2  (PyProPEP - frozen flow)\n",
      "Throat area         = 0.00120 m^2  (PyProPEP - equilibrium flow)\n",
      "\n",
      "Throat radius       = 21.9 mm  (Bamboo - perfect gas)\n",
      "Throat radius       = 19.3 mm  (PyProPEP - frozen flow)\n",
      "Throat radius       = 19.6 mm  (PyProPEP - equilibrium flow)\n",
      "\n",
      "Exit area           = 0.00356 m^2  (Bamboo - perfect gas)\n",
      "Exit area           = 0.00255 m^2  (frozen flow)\n",
      "Exit area           = 0.00282 m^2  (frozen flow)\n",
      "\n",
      "Exit radius         = 33.7 mm  (Bamboo - perfect gas)\n",
      "Exit radius         = 28.5 mm  (PyProPEP - frozen flow)\n",
      "Exit radius         = 29.9 mm  (PyProPEP - equilibrium flow)\n",
      "\n"
     ]
    }
   ],
   "source": [
    "engine.plot_geometry()\n",
    "plt.show()\n",
    "\n",
    "At_froz = p_froz._equil_structs[1].performance.a_dotm * mdot / 101325  # PyProPEP uses units of atm, need to convert to Pa\n",
    "At_shift = p_shift._equil_structs[1].performance.a_dotm * mdot / 101325\n",
    "\n",
    "Ae_froz = p_froz.performance.ae_at * At_froz\n",
    "Ae_shift = p_shift.performance.ae_at * At_shift\n",
    "\n",
    "print(f\"\"\"\n",
    "Chamber length       = {chamber_length:.5f} m\n",
    "Nozzle length (total)= {engine.geometry.x_max - engine.geometry.x_chamber_end:.5f} m\n",
    "\n",
    "Throat area         = {nozzle.At:.5f} m^2  (Bamboo - perfect gas)\n",
    "Throat area         = {At_froz:.5f} m^2  (PyProPEP - frozen flow)\n",
    "Throat area         = {At_shift:.5f} m^2  (PyProPEP - equilibrium flow)\n",
    "\n",
    "Throat radius       = {1e3*(nozzle.At/np.pi)**0.5:.1f} mm  (Bamboo - perfect gas)\n",
    "Throat radius       = {1e3*(At_froz/np.pi)**0.5:.1f} mm  (PyProPEP - frozen flow)\n",
    "Throat radius       = {1e3*(At_shift/np.pi)**0.5:.1f} mm  (PyProPEP - equilibrium flow)\n",
    "\n",
    "Exit area           = {nozzle.Ae:.5f} m^2  (Bamboo - perfect gas)\n",
    "Exit area           = {Ae_froz:.5f} m^2  (frozen flow)\n",
    "Exit area           = {Ae_shift:.5f} m^2  (frozen flow)\n",
    "\n",
    "Exit radius         = {1e3*(nozzle.Ae/np.pi)**0.5:.1f} mm  (Bamboo - perfect gas)\n",
    "Exit radius         = {1e3*(Ae_froz/np.pi)**0.5:.1f} mm  (PyProPEP - frozen flow)\n",
    "Exit radius         = {1e3*(Ae_shift/np.pi)**0.5:.1f} mm  (PyProPEP - equilibrium flow)\n",
    "\"\"\")"
   ]
  },
  {
   "cell_type": "code",
   "execution_count": null,
   "metadata": {},
   "outputs": [],
   "source": []
  }
 ],
 "metadata": {
  "kernelspec": {
   "display_name": "Python 3",
   "language": "python",
   "name": "python3"
  },
  "language_info": {
   "codemirror_mode": {
    "name": "ipython",
    "version": 3
   },
   "file_extension": ".py",
   "mimetype": "text/x-python",
   "name": "python",
   "nbconvert_exporter": "python",
   "pygments_lexer": "ipython3",
   "version": "3.8.5"
  }
 },
 "nbformat": 4,
 "nbformat_minor": 4
}
