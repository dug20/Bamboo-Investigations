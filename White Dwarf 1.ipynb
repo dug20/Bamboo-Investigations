{
 "cells": [
  {
   "cell_type": "markdown",
   "metadata": {},
   "source": [
    "# White Dwarf Operating Conditions"
   ]
  },
  {
   "cell_type": "code",
   "execution_count": 3,
   "metadata": {},
   "outputs": [
    {
     "name": "stdout",
     "output_type": "stream",
     "text": [
      "Warning: Missing or invalid temperature-strength relationship. Stress results invalid for at least one material.\n"
     ]
    }
   ],
   "source": [
    "#Import required modules\n",
    "import bamboo as bam\n",
    "import bamboo.cooling as cool\n",
    "import bamboo.materials\n",
    "\n",
    "\n",
    "import numpy as np\n",
    "import matplotlib.pyplot as plt\n",
    "import pypropep as ppp\n",
    "import bamboo.plot\n",
    "from CoolProp.CoolProp import PropsSI"
   ]
  },
  {
   "cell_type": "markdown",
   "metadata": {},
   "source": [
    "### *Engine setup*"
   ]
  },
  {
   "cell_type": "code",
   "execution_count": 4,
   "metadata": {},
   "outputs": [
    {
     "name": "stdout",
     "output_type": "stream",
     "text": [
      "Loaded 1921 thermo species\n",
      "Loaded 1031 propellants\n",
      "NOTE: Area ratio is outside of data range for Rao bell nozzle graphs (minimum 3.7, maximum 47). Using a 15 deg cone nozzle instead.\n"
     ]
    }
   ],
   "source": [
    "'''Chamber conditions'''\n",
    "pc = 10e5                   #Chamber pressure (Pa)\n",
    "mdot = 1.05                 #Mass flow rate (kg/s)\n",
    "p_amb = 1.01325e5           #Ambient pressure (Pa). 1.01325e5 is sea level atmospheric.\n",
    "OF_ratio = 3.5              #Oxidiser/fuel mass ratio\n",
    "water_mass_fraction = 0.40  #Fraction of the fuel that is water, by mass\n",
    "\n",
    "'''Get combustion properties from pypropep'''\n",
    "ppp.init()\n",
    "e = ppp.Equilibrium()\n",
    "ipa = ppp.PROPELLANTS['ISOPROPYL ALCOHOL']\n",
    "water = ppp.PROPELLANTS['WATER']\n",
    "n2o = ppp.PROPELLANTS['NITROUS OXIDE']\n",
    "\n",
    "#Add propellants by mass fractions (note the mass fractions can add up to more than 1)\n",
    "e.add_propellants_by_mass([(ipa, 1-water_mass_fraction), (water, water_mass_fraction), (n2o, OF_ratio)])\n",
    "\n",
    "#Adiabatic combustion using chamber pressure                      \n",
    "e.set_state(P = pc/1e5, type='HP')                      \n",
    "\n",
    "gamma = e.properties.Isex   #pyrpopep uses 'Isex' for the ratio of specific heats\n",
    "cp = 1000*e.properties.Cp   #Cp is given in kJ/kg/K, we want J/kg/K\n",
    "Tc = e.properties.T\n",
    "\n",
    "'''Set up the engine object'''\n",
    "perfect_gas = bam.PerfectGas(gamma = gamma, cp = cp)    #Gas for frozen flow\n",
    "chamber_conditions = bam.ChamberConditions(pc, Tc, mdot)\n",
    "nozzle = bam.Nozzle.from_engine_components(perfect_gas, chamber_conditions, p_amb, type = \"rao\")\n",
    "engine = bam.Engine(perfect_gas, chamber_conditions, nozzle)\n",
    "\n",
    "'''Chamber and wall geometry'''\n",
    "Ac = np.pi*0.06**2                      #Chamber cross-sectional area (m^2)\n",
    "L_star = 1.2                           #L_star = Volume_c/Area_t\n",
    "chamber_length = L_star*nozzle.At/Ac   #Length of the combustion chamber\n",
    "engine.add_geometry(chamber_length = chamber_length,\n",
    "                    chamber_area = Ac,\n",
    "                    inner_wall_thickness = 2e-3,\n",
    "                    outer_wall_thickness = 2e-3)\n"
   ]
  },
  {
   "cell_type": "markdown",
   "metadata": {},
   "source": [
    "### *Print everything*"
   ]
  },
  {
   "cell_type": "code",
   "execution_count": 7,
   "metadata": {},
   "outputs": [
    {
     "data": {
      "image/png": "[encoded data removed]",
      "text/plain": [
       "<Figure size 432x288 with 1 Axes>"
      ]
     },
     "metadata": {
      "needs_background": "light"
     },
     "output_type": "display_data"
    },
    {
     "name": "stdout",
     "output_type": "stream",
     "text": [
      "Rao type nozzle (length fraction = 0.8). \n",
      "Length = 0.0516840083334008 m \n",
      "Throat area = 0.001961858319865379 m^2 \n",
      "Exit area = 0.004656992693938177 m^2 \n",
      "Area ratio = 2.3737660598537698 \n",
      "Rao inflection angle = 14.999999999999998 deg \n",
      "Rao exit angle = 14.999999999999998 deg from bamboo (nan deg from Rao graphs) \n",
      "\n",
      "Nozzle throat area   = 0.001961858319865379 m^2\n",
      "Nozzle exit area     = 0.004656992693938177 m^2\n",
      "Chamber length       = 0.20815963283502384 m\n",
      "\n",
      "Nozzle length (total)= 0.10222096435607028 m\n",
      "Nozzle throat radius = 25.0 mm\n",
      "Nozzle exit radius   = 38.5 mm\n",
      "\n",
      "Sea level thrust     = 2.5013714627240384 kN      (using perfect gas relations)\n",
      "Sea level Isp        = 242.92276525904927 s       (using perfect gas relations)\n",
      "\n",
      "Chamber Temperature  = 2868.056969661525 K\n",
      "Gamma                = 1.1401136288802078\n",
      "cp                   = 4014.403129086916 J/kg/K\n",
      "\n",
      "Combustion product composition:\n",
      "[('N2', 0.44747502468273587), ('H2O', 0.31267294528360934), ('CO2', 0.10401242950642305), ('CO', 0.06577575833473565), ('H2', 0.02777714200293597), ('OH', 0.018156065813505123), ('O2', 0.009885745316190067), ('NO', 0.006600861607412714)]\n"
     ]
    }
   ],
   "source": [
    "engine.plot_geometry()\n",
    "plt.show()\n",
    "\n",
    "print(nozzle)\n",
    "\n",
    "print(\"\")\n",
    "print(f\"Nozzle throat area   = {nozzle.At} m^2\")\n",
    "print(f\"Nozzle exit area     = {nozzle.Ae} m^2\")\n",
    "print(f\"Chamber length       = {chamber_length} m\")\n",
    "\n",
    "print(\"\")\n",
    "print(f\"Nozzle length (total)= {engine.geometry.x_max - engine.geometry.x_chamber_end} m\")\n",
    "print(f\"Nozzle throat radius = {1e3*(nozzle.At/np.pi)**0.5:.1f} mm\")\n",
    "print(f\"Nozzle exit radius   = {1e3*(nozzle.Ae/np.pi)**0.5:.1f} mm\")\n",
    "\n",
    "'''Check the thrust and specific impulse'''\n",
    "print(\"\")\n",
    "print(f\"Sea level thrust     = {engine.thrust(1e5)/1000} kN      (using perfect gas relations)\")\n",
    "print(f\"Sea level Isp        = {engine.isp(1e5)} s       (using perfect gas relations)\")\n",
    "\n",
    "print(\"\")\n",
    "print(f\"Chamber Temperature  = {Tc} K\")\n",
    "print(f\"Gamma                = {gamma}\")\n",
    "print(f\"cp                   = {cp} J/kg/K\")\n",
    "\n",
    "print(\"\\nCombustion product composition:\")\n",
    "print(e.composition_sorted[0:8])"
   ]
  },
  {
   "cell_type": "code",
   "execution_count": null,
   "metadata": {},
   "outputs": [],
   "source": []
  }
 ],
 "metadata": {
  "kernelspec": {
   "display_name": "Python 3",
   "language": "python",
   "name": "python3"
  },
  "language_info": {
   "codemirror_mode": {
    "name": "ipython",
    "version": 3
   },
   "file_extension": ".py",
   "mimetype": "text/x-python",
   "name": "python",
   "nbconvert_exporter": "python",
   "pygments_lexer": "ipython3",
   "version": "3.8.5"
  }
 },
 "nbformat": 4,
 "nbformat_minor": 4
}
